{
 "metadata": {
  "language_info": {
   "codemirror_mode": {
    "name": "ipython",
    "version": 3
   },
   "file_extension": ".py",
   "mimetype": "text/x-python",
   "name": "python",
   "nbconvert_exporter": "python",
   "pygments_lexer": "ipython3",
   "version": "3.7.0-final"
  },
  "orig_nbformat": 2,
  "kernelspec": {
   "name": "python3",
   "display_name": "Python 3.7.0 64-bit (conda)",
   "metadata": {
    "interpreter": {
     "hash": "76b265fcaf24c74f41ec0191cc1fd0c58873181692db838b1c47500682a1a147"
    }
   }
  }
 },
 "nbformat": 4,
 "nbformat_minor": 2,
 "cells": [
  {
   "source": [
    "# sfHMM\n",
    "## Basic Usage\n",
    "First import `sfHMM1` class and `sfHMMn` class and generate sample data."
   ],
   "cell_type": "markdown",
   "metadata": {}
  },
  {
   "cell_type": "code",
   "execution_count": null,
   "metadata": {},
   "outputs": [],
   "source": [
    "from sfHMM import sfHMM1, sfHMMn\n",
    "from sfHMM import hmm_sampling"
   ]
  },
  {
   "source": [
    "For single trajectory, use `sfHMM1`."
   ],
   "cell_type": "markdown",
   "metadata": {}
  },
  {
   "cell_type": "code",
   "execution_count": null,
   "metadata": {},
   "outputs": [],
   "source": [
    "data = hmm_sampling(3, 500) # 3-state, 500-data\n",
    "sf = sfHMM1(data)\n",
    "sf.run_all()"
   ]
  },
  {
   "source": [
    "For multiple trajectories, use `sfHMMn`."
   ],
   "cell_type": "markdown",
   "metadata": {}
  },
  {
   "cell_type": "code",
   "execution_count": null,
   "metadata": {},
   "outputs": [],
   "source": [
    "msf = sfHMMn()\n",
    "for i in range(4):\n",
    "    data = hmm_sampling(3, 200) # 3-state, 200-data\n",
    "    msf.append(data)\n",
    "msf.run_all()"
   ]
  },
  {
   "source": [
    "# Details of Attributes and Methods\n",
    "\n",
    "`sfHMM1` class and `sfHMMn` class have a similar structure (both inherit `sfHMMBase`) so that they have many attributes and methods in common. Also, `sfHMMBase` inherits `GaussianHMM` in [hmmlearn](https://github.com/hmmlearn/hmmlearn) so that prediction, scoring methods of `GaussianHMM` are all supported.\n",
    "\n",
    "## Parameters\n",
    "\n",
    "All the parameters are optional.\n",
    "- `sg0` ... The parameter used in denoising process.\n",
    "- `psf` ... The parameter used in step finding.\n",
    "- `krange` ... Range of the number of hidden states.\n",
    "- `model` ... Distribution of signal. Gaussian and Poissonian are supported now.\n",
    "- `name` ... Name of the object.\n",
    "\n",
    "## Attributes and Methods\n",
    "\n",
    "sfHMM is composed of four steps.\n",
    "\n",
    "1. `step_finding()` ... Step finding by likelihood maximization.\n",
    "2. `denoising()` ... The standard deviation of noise is cut off to `sg0`.\n",
    "3. `gmmfit()` ... Gaussian mixture model clustering.\n",
    "4. `hmmfit()` ... HMM parameter initialization and optimization.\n",
    "\n",
    "Attributes are sequencially added to the object.\n",
    "\n",
    "- After `step_finding`\n",
    "\n",
    "  - `step` ... `GaussStep` or `PoissonStep` object, defined in `step` module. This object has following attributes:\n",
    "    - `fit` ... Fitting result.\n",
    "    - `n_step` ... The number of steps (region between two signal change points).\n",
    "    - `step_list` ... List of signal change points.\n",
    "    - `mu_list` ... list of mean values of each step.\n",
    "    - `len_list` ... list of step lengths (`step_list[i+1] - step_list[i]`).\n",
    "    - `step_size_list` ... list of signal change (`mu_list[i+1] - mu_list[i]`). \n",
    "  - `psf` ... Automatically determined here if needed.\n",
    "\n",
    "- After `denoising`  \n",
    "\n",
    "  - `data_fil` ... Data after denoised.\n",
    "  - `sg0` ... Automatically determined here if needed.\n",
    "\n",
    "- After `gmmfit`\n",
    "\n",
    "  - `gmm_opt` ... The optimal Gaussian mixture model in the form of `GMM1` object. `GMM1` inherits `sklearn.mixture.GaussianMixture`. The only Difference is that all the parameters are sorted after fitting.\n",
    "\n",
    "  - `gmm` ... `GMMn` object defined in `gmm` module. This object contains `GMM1` objects with different number of states. You can get $n$-state model by indexing like `gmm[n]`.\n",
    "  - `n_components` ... The number of states.\n",
    "  - `states` ... State sequence, predicted only with the results in 1-3.\n",
    "\n",
    "- After `hmmfit`\n",
    "    \n",
    "  - `means_`, `covars_`, `transmat_`, `startprob_` ... Parameters in Gaussian HMM. For detailed definition, see [hmmlearn](https://github.com/hmmlearn/hmmlearn).\n",
    "  - `states` (updated after `gmmfit`) ... State sequence, optimized using Viterbi algorithm. This array takes values {0, 1, 2, ...}.\n",
    "  - `viterbi` ... Signal sequence of Viterbi pass. This array takes values {`means_[0]`, `means_[1]`, `means_[2]`, ...}, so that basically you can plot `viterbi` and `data_raw` on the same figure.\n",
    "\n",
    "## Other Methods\n",
    "\n",
    "- `plot()` ... visualize the results of sfHMM analysis.\n",
    "- `run_all()` ... run all the four steps and plot the results.\n",
    "- `tdp()` ... show the results in pseudo transition density plot."
   ],
   "cell_type": "markdown",
   "metadata": {}
  },
  {
   "source": [
    "## Customizing Plots\n",
    "\n",
    "The super class `sfHMMBase` has class attributes that is passed to `matplotlib` every time you plot. You can change them by updating the dictionaries.\n",
    "\n",
    "- `colors` ... Line colors of each data.\n",
    "- `styles` ... Styles of plot. See `rcParams` of `matplotlib`.\n",
    "\n",
    "For example, if you want to use different color for raw data and smaller font size in `sfHMM1`, then run following codes:\n"
   ],
   "cell_type": "markdown",
   "metadata": {}
  },
  {
   "cell_type": "code",
   "execution_count": null,
   "metadata": {},
   "outputs": [],
   "source": [
    "sfHMM1.colors[\"raw data\"] = \"gold\"\n",
    "sfHMM1.styles[\"font.size\"] = 10\n",
    "sf.plot()"
   ]
  },
  {
   "source": [
    "## Additional Attributes and Methods in sfHMMn\n",
    "\n",
    "- `self[i]` ... The `sfHMM1` object of $i$-th trace. The real list of objects is `_sf_list`. Iteration is defined on this list.\n"
   ],
   "cell_type": "markdown",
   "metadata": {}
  },
  {
   "cell_type": "code",
   "execution_count": null,
   "metadata": {},
   "outputs": [],
   "source": [
    "msf[0].plot() # plot the first trace and its analysis results.\n",
    "for sf in msf:\n",
    "    print(sf.name)"
   ]
  },
  {
   "source": [
    "# Application to Motor Stepping\n",
    "\n",
    "sfHMM can be modified for application to motor stepping trajectories. `sfHMM1Motor` (for single trajectory) and `sfHMMnMotor` (for multiple trajectories) have similar API as `sfHMM1` and `sfHMMn` but there are slight differences due to specialization to motor stepping trajectories such as sparse transition and large number of states.\n",
    "\n",
    "## Difference in Parameters\n",
    "\n",
    "- `krange` ... Because it is hard to define the number of states, this parameter is not needed to be predefined. This parameter can be estimated in `gmmfit()` based on the step finding results.\n",
    "- `max_stride` ... The maximum size of state transition. Transition further than this will be ignored because transition probability for it will be near zero. For most motors this parameter should be set to 1 or 2.\n",
    "\n",
    "## Difference in Attributes and Methods\n",
    "\n",
    "- `covariance_type` ... This is an attribute defined in `hmmlearn`. Because all the state should have the same distribution, this is set to `'tied'` here.\n",
    "- `transmat_kernel` ... Independent paramter set in the transition probability matrix. The length of this array is equal to `max_stride*2+1`. This is passed to `transmat_` getter method every time to construct transition probability matrix. For example, when `transmat_kernel = [0.01, 0.97, 0.02]` then the generated `transmat_` will be:\n",
    "```python\n",
    "[[0.98, 0.02,    0,    0, ... ,    0], # on the boundaries, the diagonal\n",
    " [0.01, 0.97, 0.02,    0, ... ,    0], # components are larger.\n",
    " [   0, 0.01, 0.97, 0.02, ... ,    0],\n",
    " [   0, ...         ... , 0.01, 0.99]]\n",
    "```\n",
    "- `gmmfit()` ... `method=\"Dirichlet\"` is default because it is precise enough and it is much faster for big data. Also, if you want to use the predifined `krange`, you need to explicitly add keyward argument `estimate_krange=False`.\n",
    "- `tdp()` ... In the case of motor stepping, transition desity plot is not a straightforward way to visualize transition. Histogram of transition frequency is plotted here.\n",
    "\n",
    "## Example\n",
    "```python\n",
    "from sfHMM import sfHMM1Motor\n",
    "sf = sfHMM1Motor(data, max_stride=2)\n",
    "sf.run_all()\n",
    "```"
   ],
   "cell_type": "markdown",
   "metadata": {}
  },
  {
   "cell_type": "code",
   "execution_count": null,
   "metadata": {},
   "outputs": [],
   "source": []
  }
 ]
}