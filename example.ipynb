{
 "cells": [
  {
   "cell_type": "markdown",
   "metadata": {},
   "source": [
    "# sfHMM\n",
    "\n",
    "Contents\n",
    "--------\n",
    "\n",
    "1. Basic Usage\n",
    "2. Parameters and Methods\n",
    "3. Attributes Added during Analysis\n",
    "4. Customizing Plots\n",
    "5. Additional Attributes and Methods in sfHMMn\n",
    "6. Application to Motor Stepping\n",
    "7. How to Use Step Finding Classes\n",
    "8. How to Use GMM Clustering Classes\n",
    "9. Working with Real Data\n",
    "10. Save HMM\n",
    "11. Alignment of Trajectories\n",
    "12. Plot analysis results in an interactive viewer"
   ]
  },
  {
   "cell_type": "markdown",
   "metadata": {},
   "source": [
    "## 1. Basic Usage\n",
    "\n",
    "Basically you can analyze your data by running following code:\n",
    "\n",
    "```python\n",
    "from sfHMM import sfHMM1\n",
    "sfHMM1().read(\"path/to/file\").run_all()\n",
    "```\n",
    "\n",
    "but to see what is happening inside the codes, first let's start with simulated data."
   ]
  },
  {
   "cell_type": "code",
   "execution_count": null,
   "metadata": {},
   "outputs": [],
   "source": [
    "import matplotlib.pyplot as plt\n",
    "import numpy as np\n",
    "from sfHMM import hmm_sampling\n",
    "plt.style.use(\"default\")\n",
    "data = hmm_sampling(3, 500) # 3-state, 500-frame"
   ]
  },
  {
   "cell_type": "markdown",
   "metadata": {},
   "source": [
    "For single trajectory, use `sfHMM1`. Data can directly added to `sfHMM1` object by giving it as an argument."
   ]
  },
  {
   "cell_type": "code",
   "execution_count": null,
   "metadata": {},
   "outputs": [],
   "source": [
    "from sfHMM import sfHMM1\n",
    "\n",
    "sf = sfHMM1(data)\n",
    "sf.run_all()"
   ]
  },
  {
   "cell_type": "markdown",
   "metadata": {},
   "source": [
    "For multiple trajectories, use `sfHMMn`. Here, input must be `list` of data, `dict` of data or `pd.DataFrame`."
   ]
  },
  {
   "cell_type": "code",
   "execution_count": null,
   "metadata": {},
   "outputs": [],
   "source": [
    "# simulate three trajectories\n",
    "data1 = hmm_sampling(3, 200, rand=1)\n",
    "data2 = hmm_sampling(3, 180, rand=2)\n",
    "data3 = hmm_sampling(3, 250, rand=3)\n",
    "\n",
    "from sfHMM import sfHMMn\n",
    "\n",
    "# make an object\n",
    "msf = sfHMMn([data1, data2, data3])\n",
    "\n",
    "# start analysis\n",
    "msf.run_all()"
   ]
  },
  {
   "cell_type": "markdown",
   "metadata": {},
   "source": [
    "## 2. Parameters and Methods\n",
    "\n",
    "`sfHMM1` class and `sfHMMn` class have a similar structure (both inherit `sfHMMBase`) so that they have many attributes and methods in common. Also, `sfHMMBase` inherits `GaussianHMM` in [hmmlearn](https://github.com/hmmlearn/hmmlearn) so that all the methods in `GaussianHMM` are supported.\n",
    "\n",
    "#### *Parameters*\n",
    "\n",
    "All the parameters are optional.\n",
    "- `sg0` ... The parameter used in denoising process. If signal change is $\\Delta I$ then sg0 should be set to $\\frac{\\Delta I}{5}$ when you'd like to predifine it.\n",
    "- `psf` ... The parameter used in step finding. Generally <0.1.\n",
    "- `krange` ... Range of the number of hidden states. By default this is set to (1, 6), which is wide enough for most cases.\n",
    "- `model` ... Step finding model. You can specify \"g\" for Gauss distribution (default) or \"p\" for Poisson distribution.\n",
    "- `name` ... Name of the object.\n",
    "\n",
    "#### *Methods*\n",
    "\n",
    "sfHMM is composed of four steps.\n",
    "\n",
    "1. `step_finding()` ... Step finding by likelihood maximization.\n",
    "2. `denoising()` ... The standard deviation of noise is cut off to `sg0`.\n",
    "3. `gmmfit()` ... Gaussian mixture model clustering.\n",
    "4. `hmmfit()` ... HMM parameter initialization and optimization.\n",
    "\n",
    "... and some utility functions.\n",
    "\n",
    "- `plot()` ... visualize the results of sfHMM analysis.\n",
    "- `run_all()` ... run all the four steps and plot the results.\n",
    "- `tdp()` ... show the results in pseudo transition density plot.\n",
    "- `read()` ... read data from a file.\n",
    "- `save()` ... save analysis results."
   ]
  },
  {
   "cell_type": "markdown",
   "metadata": {},
   "source": [
    "Let's see what is going on by running sfHMM workflow one by one and plot the result every time."
   ]
  },
  {
   "cell_type": "code",
   "execution_count": null,
   "metadata": {},
   "outputs": [],
   "source": [
    "sf = sfHMM1(data, psf=0.03, name=\"test\")\n",
    "\n",
    "# 1. step finding\n",
    "sf.step_finding()\n",
    "sf.plot()"
   ]
  },
  {
   "cell_type": "code",
   "execution_count": null,
   "metadata": {},
   "outputs": [],
   "source": [
    "# 2. denoising\n",
    "sf.denoising()\n",
    "sf.plot()"
   ]
  },
  {
   "cell_type": "code",
   "execution_count": null,
   "metadata": {},
   "outputs": [],
   "source": [
    "# 3. gmmfit\n",
    "sf.gmmfit(n_init=3)\n",
    "sf.plot()"
   ]
  },
  {
   "cell_type": "code",
   "execution_count": null,
   "metadata": {},
   "outputs": [],
   "source": [
    "# 4. hmmfit\n",
    "sf.hmmfit()\n",
    "sf.plot()\n",
    "sf.tdp()"
   ]
  },
  {
   "cell_type": "markdown",
   "metadata": {},
   "source": [
    "In sfHMM object `sf`, each processed data are stored in:\n",
    "- raw data &rarr; `self.data_raw`\n",
    "- step finding results &rarr; `sf.step.fit`\n",
    "- denoised trajectory &rarr; `sf.data_fil`\n",
    "- Viterbi path of HMM &rarr; `sf.viterbi`"
   ]
  },
  {
   "cell_type": "code",
   "execution_count": null,
   "metadata": {},
   "outputs": [],
   "source": [
    "plt.plot(sf.data_raw, color=\"lightgray\")\n",
    "plt.plot(sf.data_fil, color=\"gray\")\n",
    "plt.plot(sf.step.fit, color=\"gold\")\n",
    "plt.plot(sf.viterbi, color=\"red\")\n",
    "plt.show()"
   ]
  },
  {
   "cell_type": "markdown",
   "metadata": {},
   "source": [
    "## 3. Attributes Added during Analysis\n",
    "\n",
    "Attributes will be sequencially added to the objects.\n",
    "\n",
    "- After `step_finding`\n",
    "\n",
    "  - `step` ... `GaussStep` if Gauss model or `PoissonStep` if Poisson model, but any `BaseStep` objects defined in `step` module are compatible. This object has following attributes:\n",
    "  - `psf` ... Automatically determined here if needed.\n",
    "\n",
    "- After `denoising`  \n",
    "\n",
    "  - `data_fil` ... Data after denoised.\n",
    "  - `sg0` ... Automatically determined here if needed.\n",
    "\n",
    "- After `gmmfit`\n",
    "\n",
    "  - `gmm_opt` ... The optimal Gaussian mixture model in the form of `GMM1` object. `GMM1` inherits `sklearn.mixture.GaussianMixture`. The only Difference is that all the parameters are sorted after fitting.\n",
    "\n",
    "  - `gmm` ... `GMMs` object defined in `gmm` module, if AIC/BIC minimization is chosen. This object contains `GMM1` objects with different number of states.\n",
    "  - `n_components` ... The number of states.\n",
    "  - `states` ... State sequence, predicted only with the results in 1-3.\n",
    "\n",
    "- After `hmmfit`\n",
    "    \n",
    "  - `means_`, `covars_`, `transmat_`, `startprob_` ... Parameters in Gaussian HMM. For detailed definition, see [hmmlearn](https://github.com/hmmlearn/hmmlearn).\n",
    "  - `states` (updated after `gmmfit`) ... State sequence, optimized using Viterbi algorithm. This array takes values {0, 1, 2, ...}.\n",
    "  - `viterbi` ... Signal sequence of Viterbi pass. This array takes values {`means_[0]`, `means_[1]`, `means_[2]`, ...}, so that basically you can plot `viterbi` and `data_raw` on the same figure.\n"
   ]
  },
  {
   "cell_type": "markdown",
   "metadata": {},
   "source": [
    "Let's see some of them."
   ]
  },
  {
   "cell_type": "code",
   "execution_count": null,
   "metadata": {},
   "outputs": [],
   "source": [
    "print(\"sf.sg0 =\\n\", sf.sg0)\n",
    "print(\"sf.n_components =\\n\", sf.n_components)\n",
    "print(\"sf.means_ =\\n\", sf.means_)\n",
    "print(\"sf.states =\\n\", sf.states)\n",
    "plt.figure(figsize=(5, 1.3))\n",
    "plt.plot(sf.data_fil)\n",
    "plt.show()\n",
    "plt.figure(figsize=(5, 1.3))\n",
    "plt.plot(sf.viterbi)\n",
    "plt.show()"
   ]
  },
  {
   "cell_type": "markdown",
   "metadata": {},
   "source": [
    "## 4. Customizing Plots\n",
    "\n",
    "The super class `sfHMMBase` has class attributes that is passed to `matplotlib` every time you plot. You can change them by updating the dictionaries.\n",
    "\n",
    "- `colors` ... Line colors of each data.\n",
    "- `styles` ... Styles of plot. See `rcParams` of `matplotlib`.\n"
   ]
  },
  {
   "cell_type": "code",
   "execution_count": null,
   "metadata": {},
   "outputs": [],
   "source": [
    "print(sfHMM1.colors)\n",
    "print(sfHMM1.styles)"
   ]
  },
  {
   "cell_type": "markdown",
   "metadata": {},
   "source": [
    "## 5. Additional Attributes and Methods in sfHMMn\n",
    "\n",
    "Basically `sfHMMn` can be used similarly as `sfHMM1`, while it has other methods for convenience.\n",
    "\n",
    "- `append` ... Append one dataset.\n",
    "- `appendn` ... Append list of datasets.\n",
    "- `delete` ... Delete dataset(s).\n",
    "- `pop` ... Delete one dataset and return it.\n",
    "- `from_dict` ... Append datasets from `dict`.\n",
    "- `from_pandas` ... Append datasets from `pd.DataFrame`.\n",
    "- `self[i]` ... The `sfHMM1` object of $i$-th trace. The real list of objects is `_sf_list`. Iteration is defined on this list.\n",
    "- `run_all_separately` ... Run `run_all` for each `sfHMM1` separately.\n"
   ]
  },
  {
   "cell_type": "code",
   "execution_count": null,
   "metadata": {},
   "outputs": [],
   "source": [
    "# plot the first trace and its analysis results.\n",
    "msf[0].plot()"
   ]
  },
  {
   "cell_type": "code",
   "execution_count": null,
   "metadata": {},
   "outputs": [],
   "source": [
    "# print each name and how many steps it has\n",
    "for sf in msf:\n",
    "    print(sf.name, \"...\", sf.step.n_step, \"steps\")"
   ]
  },
  {
   "cell_type": "markdown",
   "metadata": {},
   "source": [
    "## 6. Application to Motor Stepping\n",
    "\n",
    "sfHMM can be modified for application to motor stepping trajectories. `sfHMM1Motor` (for single trajectory) and `sfHMMnMotor` (for multiple trajectories) in `sfHMM.motor` module have similar API as `sfHMM1` and `sfHMMn` but there are slight differences due to specialization to motor stepping trajectories such as sparse transition and large number of states.\n",
    "\n",
    "#### Differences in Parameters\n",
    "\n",
    "- `krange` ... Because it is hard to define the number of states, this parameter is not needed to be predefined. This parameter can be estimated in `gmmfit()` based on the step finding results.\n",
    "- `max_stride` ... The maximum size of state transition. Transition further than this will be ignored because transition probability for it will be near zero. For most motors this parameter should be set to 1 or 2.\n",
    "\n",
    "#### Differences in Attributes and Methods\n",
    "\n",
    "- `covariance_type` ... This is an attribute defined in `hmmlearn`. Because all the state should have the same distribution, this is set to `'tied'` here.\n",
    "- `transmat_kernel` ... Independent paramter set in the transition probability matrix. The length of this array is equal to `max_stride*2+1`. This is passed to `transmat_` getter method every time to construct transition probability matrix.\n",
    "- `gmmfit()` ... `method=\"Dirichlet\"` is default because it is precise enough and it is much faster for big data.\n",
    "- `tdp()` ... In the case of motor stepping, transition desity plot is not a straightforward way to visualize transition. Histogram of transition frequency is plotted here.\n",
    "\n",
    "#### Difference in HMM Algorithms\n",
    "\n",
    "Although you don't need to care much about them, forward/backward algorithm and Viterbi algorithm is modified from the original ones because there are some restrictions in transition probability matrix. In `hmmlearn` those algorithms are coded in cython file \"_hmmc.pyx\", while in `sfHMM.motor` modified algorithms in \"_hmmc_motor.pyx\" are used instead.\n"
   ]
  },
  {
   "cell_type": "code",
   "execution_count": null,
   "metadata": {},
   "outputs": [],
   "source": [
    "from sfHMM import motor_sampling\n",
    "from sfHMM.motor import sfHMM1Motor\n",
    "data = motor_sampling(n_data=1500, rand=0)\n",
    "sf = sfHMM1Motor(data, max_stride=2)\n",
    "sf.run_all()"
   ]
  },
  {
   "cell_type": "markdown",
   "metadata": {},
   "source": [
    "Or if you find it's hard to see, give range argument to `plot()` method."
   ]
  },
  {
   "cell_type": "code",
   "execution_count": null,
   "metadata": {},
   "outputs": [],
   "source": [
    "sf.plot([500, 1000])"
   ]
  },
  {
   "cell_type": "markdown",
   "metadata": {},
   "source": [
    "The information of transition is different in motor step analysis."
   ]
  },
  {
   "cell_type": "code",
   "execution_count": null,
   "metadata": {},
   "outputs": [],
   "source": [
    "print(\"transmat_kernel =\\n\", sf.transmat_kernel)\n",
    "print(\"transmat_ =\\n\", np.round(sf.transmat_, 2))\n",
    "sf.tdp()"
   ]
  },
  {
   "cell_type": "markdown",
   "metadata": {},
   "source": [
    "## 7. How to Use Step Finding Classes\n",
    "\n",
    "In `sfHMM.step` module, several step finding algorithms are provided. All the classes inherit `BaseStep` so that they have same API.\n",
    "\n",
    "*Parameters*\n",
    "\n",
    "- `fit` ... Fitting result.\n",
    "- `n_step` ... The number of steps (the word \"step\" here means a plateau, or the region between two signal change points).\n",
    "- `step_list` ... List of signal change points.\n",
    "- `mu_list` ... list of mean values of each step, or step height.\n",
    "- `len_list` ... list of step lengths, or dwell time (`step_list[i+1] - step_list[i]`).\n",
    "- `step_size_list` ... list of signal change (`mu_list[i+1] - mu_list[i]`). \n",
    "\n",
    "*Methods*\n",
    "\n",
    "- `multi_step_finding()` ... Find new steps until likelihood reaches the maximum.\n",
    "- `plot()` ... Plot the raw data and the fitting."
   ]
  },
  {
   "cell_type": "code",
   "execution_count": null,
   "metadata": {},
   "outputs": [],
   "source": [
    "from sfHMM.step import GaussStep\n",
    "# simulate a Gaussian trajectory\n",
    "data_gauss = hmm_sampling(3, 500, scale=5, rand=1234)\n",
    "\n",
    "step_g = GaussStep(data_gauss)\n",
    "step_g.multi_step_finding() # find steps\n",
    "step_g.plot() # plot results"
   ]
  },
  {
   "cell_type": "code",
   "execution_count": null,
   "metadata": {},
   "outputs": [],
   "source": [
    "from sfHMM.step import GaussStep, PoissonStep\n",
    "# simulate a Poissonian trajectory\n",
    "data_poisson = hmm_sampling(3 ,500, scale=5, rand=1234, poi=True)\n",
    "\n",
    "step_p = PoissonStep(data_poisson)\n",
    "step_p.multi_step_finding() # find steps\n",
    "step_p.plot() # plot results"
   ]
  },
  {
   "cell_type": "markdown",
   "metadata": {},
   "source": [
    "In my implementation, calculation results in one loop are efficiently passed to next loop. You can fit 100,000-frame trajectory within **1 sec**!"
   ]
  },
  {
   "cell_type": "code",
   "execution_count": null,
   "metadata": {},
   "outputs": [],
   "source": [
    "data = hmm_sampling(3 ,10**5, scale=5)\n",
    "%time step_g = GaussStep(data).multi_step_finding()"
   ]
  },
  {
   "cell_type": "code",
   "execution_count": null,
   "metadata": {},
   "outputs": [],
   "source": [
    "# because the data size is too large, let's see the first 1,000 frame.\n",
    "plt.plot(step_g.data[:1000], color=\"lightgray\")\n",
    "plt.plot(step_g.fit[:1000], color=\"red\")\n",
    "plt.show()\n",
    "print(\"n_step =\", step_g.n_step)"
   ]
  },
  {
   "cell_type": "markdown",
   "metadata": {},
   "source": [
    "## 8. How to Use GMM Clustering Classes"
   ]
  },
  {
   "cell_type": "code",
   "execution_count": null,
   "metadata": {},
   "outputs": [],
   "source": [
    "data = hmm_sampling(4, n_data=1000, trs=0.5, sigma=0.3, rand=8) # so fast transition that almost no correlation visible\n",
    "plt.hist(data, bins=30, density=True)\n",
    "plt.show()"
   ]
  },
  {
   "cell_type": "markdown",
   "metadata": {},
   "source": [
    "With `GMMs` class you can easily fit the data to correct model"
   ]
  },
  {
   "cell_type": "code",
   "execution_count": null,
   "metadata": {},
   "outputs": [],
   "source": [
    "from sfHMM.gmm import GMMs\n",
    "gmms = GMMs(data, krange=(2, 6))\n",
    "gmms.fit()\n",
    "gmms.show_aic_bic()\n",
    "gmms.plot_all()"
   ]
  },
  {
   "cell_type": "code",
   "execution_count": null,
   "metadata": {},
   "outputs": [],
   "source": [
    "# get the best model that minimizes BIC\n",
    "gmm_optimal = gmms.get_optimal(criterion=\"bic\")\n",
    "print(gmm_optimal)\n",
    "print(\"means =\\n\", gmm_optimal.means_)"
   ]
  },
  {
   "cell_type": "markdown",
   "metadata": {},
   "source": [
    "## 9. Working with Real Data\n",
    "\n",
    "Here in this section I'll introduce how to deal with real experimental data saved as such as csv, xlsx or dat files. \n"
   ]
  },
  {
   "cell_type": "code",
   "execution_count": null,
   "metadata": {},
   "outputs": [],
   "source": [
    "# Load sample data with pandas\n",
    "import pandas as pd\n",
    "\n",
    "path = r\"sample_data\\sample.dat\"\n",
    "\n",
    "df = pd.read_csv(path, sep=\"\\s+\", encoding=\"utf-8\")\n",
    "df"
   ]
  },
  {
   "cell_type": "markdown",
   "metadata": {},
   "source": [
    "Next, append the data to sfHMMn object. Let's see what the trajectories look like using `plot()`. "
   ]
  },
  {
   "cell_type": "code",
   "execution_count": null,
   "metadata": {},
   "outputs": [],
   "source": [
    "msf = sfHMMn(df, psf=0.03, name=\"I/O practice\")\n",
    "msf.plot()"
   ]
  },
  {
   "cell_type": "markdown",
   "metadata": {},
   "source": [
    "Now it's ready to start sfHMM analysis."
   ]
  },
  {
   "cell_type": "code",
   "execution_count": null,
   "metadata": {},
   "outputs": [],
   "source": [
    "msf.run_all()"
   ]
  },
  {
   "cell_type": "markdown",
   "metadata": {},
   "source": [
    "In `sfHMM`, all what you do above can be done in a straightforward way. The `read()` member function can load a file and store the contents into any of `sfHMM` objects. `read()` can load txt, csv, dat and Excel files (in the case of Excel files, only the first sheet will be read).\n",
    "\n",
    "Make sure the contents are reshaped in following formats:\n",
    "\n",
    "|Data1|Data2| ... |\n",
    "|:---:|:---:|:---:|\n",
    "|  3.5|  9.1| ... |\n",
    "|  2.2|  5.0| ... |\n",
    "|  :  |  :  |  :  |\n",
    "\n",
    "or\n",
    "\n",
    "|names|values|\n",
    "|:---:|:----:|\n",
    "|Data1|   3.5|\n",
    "|Data1|   2.2|\n",
    "|  :  |   :  |\n",
    "|Data1|   6.3|\n",
    "|Data2|   9.1|\n",
    "|Data2|   5.0|\n",
    "|  :  |   :  |\n",
    "|Data2|   6.4|\n",
    "|  :  |   :  |\n"
   ]
  },
  {
   "cell_type": "code",
   "execution_count": null,
   "metadata": {},
   "outputs": [],
   "source": [
    "msf = sfHMMn() # make an instance first\n",
    "msf = msf.read(path)\n",
    "msf.run_all()"
   ]
  },
  {
   "cell_type": "markdown",
   "metadata": {},
   "source": [
    "You can also read an Excel file as a `dict` of `sfHMMn` objects, using `io` module."
   ]
  },
  {
   "cell_type": "code",
   "execution_count": null,
   "metadata": {},
   "outputs": [],
   "source": [
    "from sfHMM.io import read_excel\n",
    "path = r\"sample_data\\sample.xlsx\"\n",
    "d = read_excel(path)\n",
    "print(d)"
   ]
  },
  {
   "cell_type": "code",
   "execution_count": null,
   "metadata": {},
   "outputs": [],
   "source": [
    "d[\"Exp1\"].run_all()"
   ]
  },
  {
   "cell_type": "markdown",
   "metadata": {},
   "source": [
    "## 10. Save HMM\n",
    "\n",
    "According to hmmlearn tutorial, HMM objects can be easily saved using `pickle`. Because sfHMM inherits `hmmlearn.hmm.GaussianHMM` the same methods are available."
   ]
  },
  {
   "cell_type": "code",
   "execution_count": null,
   "metadata": {},
   "outputs": [],
   "source": [
    "import pickle as pkl\n",
    "\n",
    "# save\n",
    "with open(\"test.pickle\", \"wb\") as f:\n",
    "    pkl.dump(msf, f)\n",
    "\n",
    "# test loading file\n",
    "with open(\"test.pickle\", \"rb\") as f:\n",
    "    msf_from_pkl = pkl.load(f)\n",
    "\n",
    "msf_from_pkl.plot()"
   ]
  },
  {
   "cell_type": "markdown",
   "metadata": {},
   "source": [
    "If you only need the trajectories and fitting results, you can use `save()` method to save the results as csv, dat or other similar format. Here, if the data of your `sfHMM` object was created by `read()` method, the object remembers the source of data so that you don't even have to give file path to save. It will be saved under the same directory as the original file."
   ]
  },
  {
   "cell_type": "code",
   "execution_count": null,
   "metadata": {},
   "outputs": [],
   "source": [
    "print(msf.source)\n",
    "msf.save()\n",
    "# run `msf.save(\"path/to/somewhere\")` if you want to save it under different directory"
   ]
  },
  {
   "cell_type": "markdown",
   "metadata": {},
   "source": [
    "## 11. Alignment of Trajectories\n",
    "\n",
    ":warning: Function `align()` is under development so that its behavior may be changed in the future.\n",
    "\n",
    "In real experiments, obtained data usually have different intensity profiles (e.g. two trajectories have three states but mean intensities are `[10, 20, 30]` for the first trajectory and `[12, 24, 36]` for the second one). This may be caused by uneven laser irradiation in fluorescent microscope, molecule heterogeneity or errors in zero-point definition. This problem must be solved before plotting histogram.\n",
    "\n",
    "In `sfHMM`, this problem can be partially solved by aligning steps. Using `align()` method of `sfHMMn`, all the trajectories can be aligned to the first trajectory.\n",
    "\n",
    ":warning: In `align()`, setting the argument `bounds` correctly is very important to avoid mis-alignment."
   ]
  },
  {
   "cell_type": "code",
   "execution_count": null,
   "metadata": {},
   "outputs": [],
   "source": [
    "# prepare sample datasets with different intensity profiles\n",
    "datalist = []\n",
    "for a in [1, 0.85, 1.12, 0.94]:\n",
    "    data = hmm_sampling(n_data=500, sigma=0.35, rand=int(a*1000)) + 0.5\n",
    "    data *= a\n",
    "    datalist.append(data)\n",
    "\n",
    "msf = sfHMMn(datalist, name=\"simple run\")\n",
    "msf.run_all()\n",
    "\n",
    "msf = sfHMMn(datalist, name=\"with alignment\")\n",
    "msf.step_finding()\n",
    "msf.align(bounds=(0.8, 1.2))\n",
    "msf.run_all(continue_=True)"
   ]
  },
  {
   "cell_type": "markdown",
   "metadata": {},
   "source": [
    "## 12. Plot analysis results in an interactive viewer\n",
    "\n",
    "sfHMM also provides an interactive viewer for multi-channel, multi-trajectory data. It depends on `qtpy` but if you are using conda environment it should be installed by default. \n",
    "\n",
    "The viewer is equipped with following functions.\n",
    "\n",
    "- Draggable (left button) and resizable (wheel and right button) `matplotlib` figure canvas.\n",
    "- Check boxes that specifies which results (raw data, step finding, denoised and/or Viterbi path) will be overlayed.\n",
    "- Spinbox that specifies which trajectory will be displayed (only active for `sfHMMn`)."
   ]
  },
  {
   "cell_type": "code",
   "execution_count": null,
   "metadata": {},
   "outputs": [],
   "source": [
    "msf.view_in_qt()"
   ]
  },
  {
   "cell_type": "code",
   "execution_count": null,
   "metadata": {},
   "outputs": [],
   "source": []
  }
 ],
 "metadata": {
  "interpreter": {
   "hash": "76b265fcaf24c74f41ec0191cc1fd0c58873181692db838b1c47500682a1a147"
  },
  "kernelspec": {
   "display_name": "Python 3.7.0 64-bit (conda)",
   "name": "python3"
  },
  "language_info": {
   "codemirror_mode": {
    "name": "ipython",
    "version": 3
   },
   "file_extension": ".py",
   "mimetype": "text/x-python",
   "name": "python",
   "nbconvert_exporter": "python",
   "pygments_lexer": "ipython3",
   "version": "3.11.8"
  }
 },
 "nbformat": 4,
 "nbformat_minor": 2
}
