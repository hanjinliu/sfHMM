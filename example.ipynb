{
 "cells": [
  {
   "cell_type": "markdown",
   "source": [
    "# sfHMM\r\n",
    "\r\n",
    "Contents\r\n",
    "--------\r\n",
    "\r\n",
    "1. Basic Usage\r\n",
    "2. Parameters and Methods\r\n",
    "3. Attributes Added during Analysis\r\n",
    "4. Customizing Plots\r\n",
    "5. Additional Attributes and Methods in sfHMMn\r\n",
    "6. Application to Motor Stepping\r\n",
    "7. How to Use Step Finding Classes\r\n",
    "8. How to Use GMM Clustering Classes\r\n",
    "9. Working with Real Data\r\n",
    "10. Save HMM\r\n",
    "11. Alignment of Trajectories\r\n",
    "12. Plot analysis results in an interactive viewer"
   ],
   "metadata": {}
  },
  {
   "cell_type": "markdown",
   "source": [
    "## 1. Basic Usage\r\n",
    "\r\n",
    "Basically you can analyze your data by running following code:\r\n",
    "\r\n",
    "```python\r\n",
    "from sfHMM import sfHMM1\r\n",
    "sfHMM1().read(\"path/to/file\").run_all()\r\n",
    "```\r\n",
    "\r\n",
    "but to see what is happening inside the codes, first let's start with simulated data."
   ],
   "metadata": {}
  },
  {
   "cell_type": "code",
   "execution_count": null,
   "source": [
    "import matplotlib.pyplot as plt\r\n",
    "import numpy as np\r\n",
    "from sfHMM import hmm_sampling\r\n",
    "plt.style.use(\"default\")\r\n",
    "data = hmm_sampling(3, 500) # 3-state, 500-frame"
   ],
   "outputs": [],
   "metadata": {}
  },
  {
   "cell_type": "markdown",
   "source": [
    "For single trajectory, use `sfHMM1`. Data can directly added to `sfHMM1` object by giving it as an argument."
   ],
   "metadata": {}
  },
  {
   "cell_type": "code",
   "execution_count": null,
   "source": [
    "from sfHMM import sfHMM1\r\n",
    "\r\n",
    "sf = sfHMM1(data)\r\n",
    "sf.run_all()"
   ],
   "outputs": [],
   "metadata": {}
  },
  {
   "cell_type": "markdown",
   "source": [
    "For multiple trajectories, use `sfHMMn`. Here, input must be `list` of data, `dict` of data or `pd.DataFrame`."
   ],
   "metadata": {}
  },
  {
   "cell_type": "code",
   "execution_count": null,
   "source": [
    "# simulate three trajectories\r\n",
    "data1 = hmm_sampling(3, 200, rand=1)\r\n",
    "data2 = hmm_sampling(3, 180, rand=2)\r\n",
    "data3 = hmm_sampling(3, 250, rand=3)\r\n",
    "\r\n",
    "from sfHMM import sfHMMn\r\n",
    "\r\n",
    "# make an object\r\n",
    "msf = sfHMMn([data1, data2, data3])\r\n",
    "\r\n",
    "# start analysis\r\n",
    "msf.run_all()"
   ],
   "outputs": [],
   "metadata": {}
  },
  {
   "cell_type": "markdown",
   "source": [
    "## 2. Parameters and Methods\r\n",
    "\r\n",
    "`sfHMM1` class and `sfHMMn` class have a similar structure (both inherit `sfHMMBase`) so that they have many attributes and methods in common. Also, `sfHMMBase` inherits `GaussianHMM` in [hmmlearn](https://github.com/hmmlearn/hmmlearn) so that all the methods in `GaussianHMM` are supported.\r\n",
    "\r\n",
    "#### *Parameters*\r\n",
    "\r\n",
    "All the parameters are optional.\r\n",
    "- `sg0` ... The parameter used in denoising process. If signal change is $\\Delta I$ then sg0 should be set to $\\frac{\\Delta I}{5}$ when you'd like to predifine it.\r\n",
    "- `psf` ... The parameter used in step finding. Generally <0.1.\r\n",
    "- `krange` ... Range of the number of hidden states. By default this is set to (1, 6), which is wide enough for most cases.\r\n",
    "- `model` ... Step finding model. You can specify \"g\" for Gauss distribution (default) or \"p\" for Poisson distribution.\r\n",
    "- `name` ... Name of the object.\r\n",
    "\r\n",
    "#### *Methods*\r\n",
    "\r\n",
    "sfHMM is composed of four steps.\r\n",
    "\r\n",
    "1. `step_finding()` ... Step finding by likelihood maximization.\r\n",
    "2. `denoising()` ... The standard deviation of noise is cut off to `sg0`.\r\n",
    "3. `gmmfit()` ... Gaussian mixture model clustering.\r\n",
    "4. `hmmfit()` ... HMM parameter initialization and optimization.\r\n",
    "\r\n",
    "... and some utility functions.\r\n",
    "\r\n",
    "- `plot()` ... visualize the results of sfHMM analysis.\r\n",
    "- `run_all()` ... run all the four steps and plot the results.\r\n",
    "- `tdp()` ... show the results in pseudo transition density plot.\r\n",
    "- `read()` ... read data from a file.\r\n",
    "- `save()` ... save analysis results."
   ],
   "metadata": {}
  },
  {
   "cell_type": "markdown",
   "source": [
    "Let's see what is going on by running sfHMM workflow one by one and plot the result every time."
   ],
   "metadata": {}
  },
  {
   "cell_type": "code",
   "execution_count": null,
   "source": [
    "sf = sfHMM1(data, psf=0.03, name=\"test\")\r\n",
    "\r\n",
    "# 1. step finding\r\n",
    "sf.step_finding()\r\n",
    "sf.plot()"
   ],
   "outputs": [],
   "metadata": {}
  },
  {
   "cell_type": "code",
   "execution_count": null,
   "source": [
    "# 2. denoising\r\n",
    "sf.denoising()\r\n",
    "sf.plot()"
   ],
   "outputs": [],
   "metadata": {}
  },
  {
   "cell_type": "code",
   "execution_count": null,
   "source": [
    "# 3. gmmfit\r\n",
    "sf.gmmfit(n_init=3)\r\n",
    "sf.plot()"
   ],
   "outputs": [],
   "metadata": {}
  },
  {
   "cell_type": "code",
   "execution_count": null,
   "source": [
    "# 4. hmmfit\r\n",
    "sf.hmmfit()\r\n",
    "sf.plot()\r\n",
    "sf.tdp()"
   ],
   "outputs": [],
   "metadata": {}
  },
  {
   "cell_type": "markdown",
   "source": [
    "In sfHMM object `sf`, each processed data are stored in:\n",
    "- raw data &rarr; `self.data_raw`\n",
    "- step finding results &rarr; `sf.step.fit`\n",
    "- denoised trajectory &rarr; `sf.data_fil`\n",
    "- Viterbi path of HMM &rarr; `sf.viterbi`"
   ],
   "metadata": {}
  },
  {
   "cell_type": "code",
   "execution_count": null,
   "source": [
    "plt.plot(sf.data_raw, color=\"lightgray\")\r\n",
    "plt.plot(sf.data_fil, color=\"gray\")\r\n",
    "plt.plot(sf.step.fit, color=\"gold\")\r\n",
    "plt.plot(sf.viterbi, color=\"red\")\r\n",
    "plt.show()"
   ],
   "outputs": [],
   "metadata": {}
  },
  {
   "cell_type": "markdown",
   "source": [
    "## 3. Attributes Added during Analysis\n",
    "\n",
    "Attributes will be sequencially added to the objects.\n",
    "\n",
    "- After `step_finding`\n",
    "\n",
    "  - `step` ... `GaussStep` if Gauss model or `PoissonStep` if Poisson model, but any `BaseStep` objects defined in `step` module are compatible. This object has following attributes:\n",
    "  - `psf` ... Automatically determined here if needed.\n",
    "\n",
    "- After `denoising`  \n",
    "\n",
    "  - `data_fil` ... Data after denoised.\n",
    "  - `sg0` ... Automatically determined here if needed.\n",
    "\n",
    "- After `gmmfit`\n",
    "\n",
    "  - `gmm_opt` ... The optimal Gaussian mixture model in the form of `GMM1` object. `GMM1` inherits `sklearn.mixture.GaussianMixture`. The only Difference is that all the parameters are sorted after fitting.\n",
    "\n",
    "  - `gmm` ... `GMMs` object defined in `gmm` module, if AIC/BIC minimization is chosen. This object contains `GMM1` objects with different number of states.\n",
    "  - `n_components` ... The number of states.\n",
    "  - `states` ... State sequence, predicted only with the results in 1-3.\n",
    "\n",
    "- After `hmmfit`\n",
    "    \n",
    "  - `means_`, `covars_`, `transmat_`, `startprob_` ... Parameters in Gaussian HMM. For detailed definition, see [hmmlearn](https://github.com/hmmlearn/hmmlearn).\n",
    "  - `states` (updated after `gmmfit`) ... State sequence, optimized using Viterbi algorithm. This array takes values {0, 1, 2, ...}.\n",
    "  - `viterbi` ... Signal sequence of Viterbi pass. This array takes values {`means_[0]`, `means_[1]`, `means_[2]`, ...}, so that basically you can plot `viterbi` and `data_raw` on the same figure.\n"
   ],
   "metadata": {}
  },
  {
   "cell_type": "markdown",
   "source": [
    "Let's see some of them."
   ],
   "metadata": {}
  },
  {
   "cell_type": "code",
   "execution_count": null,
   "source": [
    "print(\"sf.sg0 =\\n\", sf.sg0)\r\n",
    "print(\"sf.n_components =\\n\", sf.n_components)\r\n",
    "print(\"sf.means_ =\\n\", sf.means_)\r\n",
    "print(\"sf.states =\\n\", sf.states)\r\n",
    "plt.figure(figsize=(5, 1.3))\r\n",
    "plt.plot(sf.data_fil)\r\n",
    "plt.show()\r\n",
    "plt.figure(figsize=(5, 1.3))\r\n",
    "plt.plot(sf.viterbi)\r\n",
    "plt.show()"
   ],
   "outputs": [],
   "metadata": {}
  },
  {
   "cell_type": "markdown",
   "source": [
    "## 4. Customizing Plots\n",
    "\n",
    "The super class `sfHMMBase` has class attributes that is passed to `matplotlib` every time you plot. You can change them by updating the dictionaries.\n",
    "\n",
    "- `colors` ... Line colors of each data.\n",
    "- `styles` ... Styles of plot. See `rcParams` of `matplotlib`.\n"
   ],
   "metadata": {}
  },
  {
   "cell_type": "code",
   "execution_count": null,
   "source": [
    "print(sfHMM1.colors)\r\n",
    "print(sfHMM1.styles)"
   ],
   "outputs": [],
   "metadata": {}
  },
  {
   "cell_type": "markdown",
   "source": [
    "## 5. Additional Attributes and Methods in sfHMMn\n",
    "\n",
    "Basically `sfHMMn` can be used similarly as `sfHMM1`, while it has other methods for convenience.\n",
    "\n",
    "- `append` ... Append one dataset.\n",
    "- `appendn` ... Append list of datasets.\n",
    "- `delete` ... Delete dataset(s).\n",
    "- `pop` ... Delete one dataset and return it.\n",
    "- `from_dict` ... Append datasets from `dict`.\n",
    "- `from_pandas` ... Append datasets from `pd.DataFrame`.\n",
    "- `self[i]` ... The `sfHMM1` object of $i$-th trace. The real list of objects is `_sf_list`. Iteration is defined on this list.\n",
    "- `run_all_separately` ... Run `run_all` for each `sfHMM1` separately.\n"
   ],
   "metadata": {}
  },
  {
   "cell_type": "code",
   "execution_count": null,
   "source": [
    "# plot the first trace and its analysis results.\r\n",
    "msf[0].plot()"
   ],
   "outputs": [],
   "metadata": {}
  },
  {
   "cell_type": "code",
   "execution_count": null,
   "source": [
    "# print each name and how many steps it has\r\n",
    "for sf in msf:\r\n",
    "    print(sf.name, \"...\", sf.step.n_step, \"steps\")"
   ],
   "outputs": [],
   "metadata": {}
  },
  {
   "cell_type": "markdown",
   "source": [
    "## 6. Application to Motor Stepping\n",
    "\n",
    "sfHMM can be modified for application to motor stepping trajectories. `sfHMM1Motor` (for single trajectory) and `sfHMMnMotor` (for multiple trajectories) in `sfHMM.motor` module have similar API as `sfHMM1` and `sfHMMn` but there are slight differences due to specialization to motor stepping trajectories such as sparse transition and large number of states.\n",
    "\n",
    "#### Differences in Parameters\n",
    "\n",
    "- `krange` ... Because it is hard to define the number of states, this parameter is not needed to be predefined. This parameter can be estimated in `gmmfit()` based on the step finding results.\n",
    "- `max_stride` ... The maximum size of state transition. Transition further than this will be ignored because transition probability for it will be near zero. For most motors this parameter should be set to 1 or 2.\n",
    "\n",
    "#### Differences in Attributes and Methods\n",
    "\n",
    "- `covariance_type` ... This is an attribute defined in `hmmlearn`. Because all the state should have the same distribution, this is set to `'tied'` here.\n",
    "- `transmat_kernel` ... Independent paramter set in the transition probability matrix. The length of this array is equal to `max_stride*2+1`. This is passed to `transmat_` getter method every time to construct transition probability matrix.\n",
    "- `gmmfit()` ... `method=\"Dirichlet\"` is default because it is precise enough and it is much faster for big data.\n",
    "- `tdp()` ... In the case of motor stepping, transition desity plot is not a straightforward way to visualize transition. Histogram of transition frequency is plotted here.\n",
    "\n",
    "#### Difference in HMM Algorithms\n",
    "\n",
    "Although you don't need to care much about them, forward/backward algorithm and Viterbi algorithm is modified from the original ones because there are some restrictions in transition probability matrix. In `hmmlearn` those algorithms are coded in cython file \"_hmmc.pyx\", while in `sfHMM.motor` modified algorithms in \"_hmmc_motor.pyx\" are used instead.\n"
   ],
   "metadata": {}
  },
  {
   "cell_type": "code",
   "execution_count": null,
   "source": [
    "from sfHMM import motor_sampling\r\n",
    "from sfHMM.motor import sfHMM1Motor\r\n",
    "data = motor_sampling(n_data=1500, rand=0)\r\n",
    "sf = sfHMM1Motor(data, max_stride=2)\r\n",
    "sf.run_all()"
   ],
   "outputs": [],
   "metadata": {}
  },
  {
   "cell_type": "markdown",
   "source": [
    "Or if you find it's hard to see, give range argument to `plot()` method."
   ],
   "metadata": {}
  },
  {
   "cell_type": "code",
   "execution_count": null,
   "source": [
    "sf.plot([500, 1000])"
   ],
   "outputs": [],
   "metadata": {}
  },
  {
   "cell_type": "markdown",
   "source": [
    "The information of transition is different in motor step analysis."
   ],
   "metadata": {}
  },
  {
   "cell_type": "code",
   "execution_count": null,
   "source": [
    "print(\"transmat_kernel =\\n\", sf.transmat_kernel)\r\n",
    "print(\"transmat_ =\\n\", np.round(sf.transmat_, 2))\r\n",
    "sf.tdp()"
   ],
   "outputs": [],
   "metadata": {}
  },
  {
   "cell_type": "markdown",
   "source": [
    "## 7. How to Use Step Finding Classes\n",
    "\n",
    "In `sfHMM.step` module, several step finding algorithms are provided. All the classes inherit `BaseStep` so that they have same API.\n",
    "\n",
    "*Parameters*\n",
    "\n",
    "- `fit` ... Fitting result.\n",
    "- `n_step` ... The number of steps (the word \"step\" here means a plateau, or the region between two signal change points).\n",
    "- `step_list` ... List of signal change points.\n",
    "- `mu_list` ... list of mean values of each step, or step height.\n",
    "- `len_list` ... list of step lengths, or dwell time (`step_list[i+1] - step_list[i]`).\n",
    "- `step_size_list` ... list of signal change (`mu_list[i+1] - mu_list[i]`). \n",
    "\n",
    "*Methods*\n",
    "\n",
    "- `multi_step_finding()` ... Find new steps until likelihood reaches the maximum.\n",
    "- `plot()` ... Plot the raw data and the fitting."
   ],
   "metadata": {}
  },
  {
   "cell_type": "code",
   "execution_count": null,
   "source": [
    "from sfHMM.step import GaussStep\r\n",
    "# simulate a Gaussian trajectory\r\n",
    "data_gauss = hmm_sampling(3, 500, scale=5, rand=1234)\r\n",
    "\r\n",
    "step_g = GaussStep(data_gauss)\r\n",
    "step_g.multi_step_finding() # find steps\r\n",
    "step_g.plot() # plot results"
   ],
   "outputs": [],
   "metadata": {}
  },
  {
   "cell_type": "code",
   "execution_count": null,
   "source": [
    "from sfHMM.step import GaussStep, PoissonStep\r\n",
    "# simulate a Poissonian trajectory\r\n",
    "data_poisson = hmm_sampling(3 ,500, scale=5, rand=1234, poi=True)\r\n",
    "\r\n",
    "step_p = PoissonStep(data_poisson)\r\n",
    "step_p.multi_step_finding() # find steps\r\n",
    "step_p.plot() # plot results"
   ],
   "outputs": [],
   "metadata": {}
  },
  {
   "cell_type": "markdown",
   "source": [
    "In my implementation, calculation results in one loop are efficiently passed to next loop. You can fit 100,000-frame trajectory within **1 sec**!"
   ],
   "metadata": {}
  },
  {
   "cell_type": "code",
   "execution_count": null,
   "source": [
    "data = hmm_sampling(3 ,10**5, scale=5)\r\n",
    "%time step_g = GaussStep(data).multi_step_finding()"
   ],
   "outputs": [],
   "metadata": {}
  },
  {
   "cell_type": "code",
   "execution_count": null,
   "source": [
    "# because the data size is too large, let's see the first 1,000 frame.\r\n",
    "plt.plot(step_g.data[:1000], color=\"lightgray\")\r\n",
    "plt.plot(step_g.fit[:1000], color=\"red\")\r\n",
    "plt.show()\r\n",
    "print(\"n_step =\", step_g.n_step)"
   ],
   "outputs": [],
   "metadata": {}
  },
  {
   "cell_type": "markdown",
   "source": [
    "## 8. How to Use GMM Clustering Classes"
   ],
   "metadata": {}
  },
  {
   "cell_type": "code",
   "execution_count": null,
   "source": [
    "data = hmm_sampling(4, n_data=1000, trs=0.5, sigma=0.3, rand=8) # so fast transition that almost no correlation visible\r\n",
    "plt.hist(data, bins=30, density=True)\r\n",
    "plt.show()"
   ],
   "outputs": [],
   "metadata": {}
  },
  {
   "cell_type": "markdown",
   "source": [
    "With `GMMs` class you can easily fit the data to correct model"
   ],
   "metadata": {}
  },
  {
   "cell_type": "code",
   "execution_count": null,
   "source": [
    "from sfHMM.gmm import GMMs\r\n",
    "gmms = GMMs(data, krange=(2, 6))\r\n",
    "gmms.fit()\r\n",
    "gmms.show_aic_bic()\r\n",
    "gmms.plot_all()"
   ],
   "outputs": [],
   "metadata": {}
  },
  {
   "cell_type": "code",
   "execution_count": null,
   "source": [
    "# get the best model that minimizes BIC\r\n",
    "gmm_optimal = gmms.get_optimal(criterion=\"bic\")\r\n",
    "print(gmm_optimal)\r\n",
    "print(\"means =\\n\", gmm_optimal.means_)"
   ],
   "outputs": [],
   "metadata": {}
  },
  {
   "cell_type": "markdown",
   "source": [
    "## 9. Working with Real Data\n",
    "\n",
    "Here in this section I'll introduce how to deal with real experimental data saved as such as csv, xlsx or dat files. \n"
   ],
   "metadata": {}
  },
  {
   "cell_type": "code",
   "execution_count": null,
   "source": [
    "# Load sample data with pandas\r\n",
    "import pandas as pd\r\n",
    "\r\n",
    "path = r\"sample_data\\sample.dat\"\r\n",
    "\r\n",
    "df = pd.read_csv(path, sep=\"\\s+\", encoding=\"utf-8\")\r\n",
    "df"
   ],
   "outputs": [],
   "metadata": {}
  },
  {
   "cell_type": "markdown",
   "source": [
    "Next, append the data to sfHMMn object. Let's see what the trajectories look like using `plot()`. "
   ],
   "metadata": {}
  },
  {
   "cell_type": "code",
   "execution_count": null,
   "source": [
    "msf = sfHMMn(df, psf=0.03, name=\"I/O practice\")\r\n",
    "msf.plot()"
   ],
   "outputs": [],
   "metadata": {}
  },
  {
   "cell_type": "markdown",
   "source": [
    "Now it's ready to start sfHMM analysis."
   ],
   "metadata": {}
  },
  {
   "cell_type": "code",
   "execution_count": null,
   "source": [
    "msf.run_all()"
   ],
   "outputs": [],
   "metadata": {}
  },
  {
   "cell_type": "markdown",
   "source": [
    "In `sfHMM`, all what you do above can be done in a straightforward way. The `read()` member function can load a file and store the contents into any of `sfHMM` objects. `read()` can load txt, csv, dat and Excel files (in the case of Excel files, only the first sheet will be read).\r\n",
    "\r\n",
    "Make sure the contents are reshaped in following formats:\r\n",
    "\r\n",
    "|Data1|Data2| ... |\r\n",
    "|:---:|:---:|:---:|\r\n",
    "|  3.5|  9.1| ... |\r\n",
    "|  2.2|  5.0| ... |\r\n",
    "|  :  |  :  |  :  |\r\n",
    "\r\n",
    "or\r\n",
    "\r\n",
    "|names|values|\r\n",
    "|:---:|:----:|\r\n",
    "|Data1|   3.5|\r\n",
    "|Data1|   2.2|\r\n",
    "|  :  |   :  |\r\n",
    "|Data1|   6.3|\r\n",
    "|Data2|   9.1|\r\n",
    "|Data2|   5.0|\r\n",
    "|  :  |   :  |\r\n",
    "|Data2|   6.4|\r\n",
    "|  :  |   :  |\r\n"
   ],
   "metadata": {}
  },
  {
   "cell_type": "code",
   "execution_count": null,
   "source": [
    "msf = sfHMMn() # make an instance first\r\n",
    "msf = msf.read(path)\r\n",
    "msf.run_all()"
   ],
   "outputs": [],
   "metadata": {}
  },
  {
   "cell_type": "markdown",
   "source": [
    "You can also read an Excel file as a `dict` of `sfHMMn` objects, using `io` module."
   ],
   "metadata": {}
  },
  {
   "cell_type": "code",
   "execution_count": null,
   "source": [
    "from sfHMM.io import read_excel\r\n",
    "path = r\"sample_data\\sample.xlsx\"\r\n",
    "d = read_excel(path)\r\n",
    "print(d)"
   ],
   "outputs": [],
   "metadata": {}
  },
  {
   "cell_type": "code",
   "execution_count": null,
   "source": [
    "d[\"Exp1\"].run_all()"
   ],
   "outputs": [],
   "metadata": {}
  },
  {
   "cell_type": "markdown",
   "source": [
    "## 10. Save HMM\n",
    "\n",
    "According to hmmlearn tutorial, HMM objects can be easily saved using `pickle`. Because sfHMM inherits `hmmlearn.hmm.GaussianHMM` the same methods are available."
   ],
   "metadata": {}
  },
  {
   "cell_type": "code",
   "execution_count": null,
   "source": [
    "import pickle as pkl\r\n",
    "\r\n",
    "# save\r\n",
    "with open(\"test.pickle\", \"wb\") as f:\r\n",
    "    pkl.dump(msf, f)\r\n",
    "\r\n",
    "# test loading file\r\n",
    "with open(\"test.pickle\", \"rb\") as f:\r\n",
    "    msf_from_pkl = pkl.load(f)\r\n",
    "\r\n",
    "msf_from_pkl.plot()"
   ],
   "outputs": [],
   "metadata": {}
  },
  {
   "cell_type": "markdown",
   "source": [
    "If you only need the trajectories and fitting results, you can use `save()` method to save the results as csv, dat or other similar format. Here, if the data of your `sfHMM` object was created by `read()` method, the object remembers the source of data so that you don't even have to give file path to save. It will be saved under the same directory as the original file."
   ],
   "metadata": {}
  },
  {
   "cell_type": "code",
   "execution_count": null,
   "source": [
    "print(msf.source)\r\n",
    "msf.save()\r\n",
    "# run `msf.save(\"path/to/somewhere\")` if you want to save it under different directory"
   ],
   "outputs": [],
   "metadata": {}
  },
  {
   "cell_type": "markdown",
   "source": [
    "## 11. Alignment of Trajectories\r\n",
    "\r\n",
    ":warning: Function `align()` is under development so that its behavior may be changed in the future.\r\n",
    "\r\n",
    "In real experiments, obtained data usually have different intensity profiles (e.g. two trajectories have three states but mean intensities are `[10, 20, 30]` for the first trajectory and `[12, 24, 36]` for the second one). This may be caused by uneven laser irradiation in fluorescent microscope, molecule heterogeneity or errors in zero-point definition. This problem must be solved before plotting histogram.\r\n",
    "\r\n",
    "In `sfHMM`, this problem can be partially solved by aligning steps. Using `align()` method of `sfHMMn`, all the trajectories can be aligned to the first trajectory.\r\n",
    "\r\n",
    ":warning: In `align()`, setting the argument `bounds` correctly is very important to avoid mis-alignment."
   ],
   "metadata": {}
  },
  {
   "cell_type": "code",
   "execution_count": null,
   "source": [
    "# prepare sample datasets with different intensity profiles\r\n",
    "datalist = []\r\n",
    "for a in [1, 0.85, 1.12, 0.94]:\r\n",
    "    data = hmm_sampling(n_data=500, sigma=0.35, rand=int(a*1000)) + 0.5\r\n",
    "    data *= a\r\n",
    "    datalist.append(data)\r\n",
    "\r\n",
    "msf = sfHMMn(datalist, name=\"simple run\")\r\n",
    "msf.run_all()\r\n",
    "\r\n",
    "msf = sfHMMn(datalist, name=\"with alignment\")\r\n",
    "msf.step_finding()\r\n",
    "msf.align(bounds=(0.8, 1.2))\r\n",
    "msf.run_all(continue_=True)"
   ],
   "outputs": [],
   "metadata": {}
  },
  {
   "cell_type": "markdown",
   "source": [
    "## 12. Plot analysis results in an interactive viewer\r\n",
    "\r\n",
    "sfHMM also provides an interactive viewer for multi-channel, multi-trajectory data. It depends on `qtpy` but if you are using conda environment it should be installed by default. \r\n",
    "\r\n",
    "The viewer is equipped with following functions.\r\n",
    "\r\n",
    "- Draggable (left button) and resizable (wheel and right button) `matplotlib` figure canvas.\r\n",
    "- Check boxes that specifies which results (raw data, step finding, denoised and/or Viterbi path) will be overlayed.\r\n",
    "- Spinbox that specifies which trajectory will be displayed (only active for `sfHMMn`)."
   ],
   "metadata": {}
  },
  {
   "cell_type": "code",
   "execution_count": null,
   "source": [
    "msf.view_in_qt()"
   ],
   "outputs": [],
   "metadata": {}
  },
  {
   "cell_type": "code",
   "execution_count": null,
   "source": [],
   "outputs": [],
   "metadata": {}
  }
 ],
 "metadata": {
  "kernelspec": {
   "name": "python3",
   "display_name": "Python 3.7.0 64-bit (conda)"
  },
  "language_info": {
   "codemirror_mode": {
    "name": "ipython",
    "version": 3
   },
   "file_extension": ".py",
   "mimetype": "text/x-python",
   "name": "python",
   "nbconvert_exporter": "python",
   "pygments_lexer": "ipython3",
   "version": "3.7.0"
  },
  "interpreter": {
   "hash": "76b265fcaf24c74f41ec0191cc1fd0c58873181692db838b1c47500682a1a147"
  }
 },
 "nbformat": 4,
 "nbformat_minor": 2
}