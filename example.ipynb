{
 "metadata": {
  "language_info": {
   "codemirror_mode": {
    "name": "ipython",
    "version": 3
   },
   "file_extension": ".py",
   "mimetype": "text/x-python",
   "name": "python",
   "nbconvert_exporter": "python",
   "pygments_lexer": "ipython3",
   "version": "3.7.0"
  },
  "orig_nbformat": 2,
  "kernelspec": {
   "name": "python370jvsc74a57bd076b265fcaf24c74f41ec0191cc1fd0c58873181692db838b1c47500682a1a147",
   "display_name": "Python 3.7.0 64-bit"
  }
 },
 "nbformat": 4,
 "nbformat_minor": 2,
 "cells": [
  {
   "source": [
    "# sfHMM\n",
    "\n",
    "Contents\n",
    "--------\n",
    "\n",
    "1. Basic Usage\n",
    "2. Parameters and Methods\n",
    "3. Attributes Added during Analysis\n",
    "4. Customizing Plots\n",
    "5. Additional Attributes and Methods in sfHMMn\n",
    "6. Application to Motor Stepping\n",
    "7. How to Use Step Finding Classes\n",
    "8. How to Use GMM Clustering Classes\n",
    "9. Input and Output"
   ],
   "cell_type": "markdown",
   "metadata": {}
  },
  {
   "source": [
    "## 1. Basic Usage\n",
    "First import `sfHMM1` class and `sfHMMn` class and generate sample data using `hmm_sampling`."
   ],
   "cell_type": "markdown",
   "metadata": {}
  },
  {
   "cell_type": "code",
   "execution_count": null,
   "metadata": {},
   "outputs": [],
   "source": [
    "from sfHMM import sfHMM1, sfHMMn\n",
    "from sfHMM import hmm_sampling"
   ]
  },
  {
   "source": [
    "For single trajectory, use `sfHMM1`. Data can directly added to `sfHMM1` object by giving it as an argument."
   ],
   "cell_type": "markdown",
   "metadata": {}
  },
  {
   "cell_type": "code",
   "execution_count": null,
   "metadata": {},
   "outputs": [],
   "source": [
    "data = hmm_sampling(3, 500) # 3-state, 500-frame\n",
    "sf = sfHMM1(data)\n",
    "sf.run_all()"
   ]
  },
  {
   "source": [
    "For multiple trajectories, use `sfHMMn`. Here, data must be appended explicitly using `append` method."
   ],
   "cell_type": "markdown",
   "metadata": {}
  },
  {
   "cell_type": "code",
   "execution_count": null,
   "metadata": {},
   "outputs": [],
   "source": [
    "msf = sfHMMn()\n",
    "for i in range(8):\n",
    "    d = hmm_sampling(3, 200) # 3-state, 200-frame\n",
    "    msf.append(d)            # append a data\n",
    "msf.run_all()"
   ]
  },
  {
   "source": [
    "## 2. Parameters and Methods\n",
    "\n",
    "`sfHMM1` class and `sfHMMn` class have a similar structure (both inherit `sfHMMBase`) so that they have many attributes and methods in common. Also, `sfHMMBase` inherits `GaussianHMM` in [hmmlearn](https://github.com/hmmlearn/hmmlearn) so that all the methods in `GaussianHMM` are supported.\n",
    "\n",
    "#### *Parameters*\n",
    "\n",
    "All the parameters are optional.\n",
    "- `sg0` ... The parameter used in denoising process.\n",
    "- `psf` ... The parameter used in step finding.\n",
    "- `krange` ... Range of the number of hidden states.\n",
    "- `model` ... Step finding model.\n",
    "- `name` ... Name of the object.\n",
    "\n",
    "#### *Methods*\n",
    "\n",
    "sfHMM is composed of four steps.\n",
    "\n",
    "1. `step_finding()` ... Step finding by likelihood maximization.\n",
    "2. `denoising()` ... The standard deviation of noise is cut off to `sg0`.\n",
    "3. `gmmfit()` ... Gaussian mixture model clustering.\n",
    "4. `hmmfit()` ... HMM parameter initialization and optimization.\n",
    "\n",
    "... and some utility functions.\n",
    "\n",
    "- `plot()` ... visualize the results of sfHMM analysis.\n",
    "- `run_all()` ... run all the four steps and plot the results.\n",
    "- `tdp()` ... show the results in pseudo transition density plot."
   ],
   "cell_type": "markdown",
   "metadata": {}
  },
  {
   "source": [
    "Let's see what is going on by running sfHMM workflow one by one and plot the result every time."
   ],
   "cell_type": "markdown",
   "metadata": {}
  },
  {
   "cell_type": "code",
   "execution_count": null,
   "metadata": {},
   "outputs": [],
   "source": [
    "sf = sfHMM1(data, psf=0.03, name=\"test\")\n",
    "\n",
    "# 1. step finding\n",
    "sf.step_finding()\n",
    "sf.plot()"
   ]
  },
  {
   "cell_type": "code",
   "execution_count": null,
   "metadata": {},
   "outputs": [],
   "source": [
    "# 2. denoising\n",
    "sf.denoising()\n",
    "sf.plot()"
   ]
  },
  {
   "cell_type": "code",
   "execution_count": null,
   "metadata": {},
   "outputs": [],
   "source": [
    "# 3. gmmfit\n",
    "sf.gmmfit(n_init=3)\n",
    "sf.plot()"
   ]
  },
  {
   "cell_type": "code",
   "execution_count": null,
   "metadata": {},
   "outputs": [],
   "source": [
    "# 4. hmmfit\n",
    "sf.hmmfit()\n",
    "sf.plot()\n",
    "sf.tdp()"
   ]
  },
  {
   "source": [
    "## 3. Attributes Added during Analysis\n",
    "\n",
    "Attributes will be sequencially added to the objects.\n",
    "\n",
    "- After `step_finding`\n",
    "\n",
    "  - `step` ... `GaussStep` if Gauss model or `PoissonStep` if Poisson model, but any `BaseStep` objects defined in `step` module are compatible. This object has following attributes:\n",
    "  - `psf` ... Automatically determined here if needed.\n",
    "\n",
    "- After `denoising`  \n",
    "\n",
    "  - `data_fil` ... Data after denoised.\n",
    "  - `sg0` ... Automatically determined here if needed.\n",
    "\n",
    "- After `gmmfit`\n",
    "\n",
    "  - `gmm_opt` ... The optimal Gaussian mixture model in the form of `GMM1` object. `GMM1` inherits `sklearn.mixture.GaussianMixture`. The only Difference is that all the parameters are sorted after fitting.\n",
    "\n",
    "  - `gmm` ... `GMMs` object defined in `gmm` module, if AIC/BIC minimization is chosen. This object contains `GMM1` objects with different number of states.\n",
    "  - `n_components` ... The number of states.\n",
    "  - `states` ... State sequence, predicted only with the results in 1-3.\n",
    "\n",
    "- After `hmmfit`\n",
    "    \n",
    "  - `means_`, `covars_`, `transmat_`, `startprob_` ... Parameters in Gaussian HMM. For detailed definition, see [hmmlearn](https://github.com/hmmlearn/hmmlearn).\n",
    "  - `states` (updated after `gmmfit`) ... State sequence, optimized using Viterbi algorithm. This array takes values {0, 1, 2, ...}.\n",
    "  - `viterbi` ... Signal sequence of Viterbi pass. This array takes values {`means_[0]`, `means_[1]`, `means_[2]`, ...}, so that basically you can plot `viterbi` and `data_raw` on the same figure.\n"
   ],
   "cell_type": "markdown",
   "metadata": {}
  },
  {
   "source": [
    "Let's see some of them."
   ],
   "cell_type": "markdown",
   "metadata": {}
  },
  {
   "cell_type": "code",
   "execution_count": null,
   "metadata": {},
   "outputs": [],
   "source": [
    "print(\"sf.sg0 =\", sf.sg0, sep=\"\\n\")\n",
    "print(\"sf.n_components =\", sf.n_components, sep=\"\\n\")\n",
    "print(\"sf.means_ =\", sf.means_, sep=\"\\n\")\n",
    "print(\"sf.states =\", sf.states, sep=\"\\n\")\n",
    "plt.figure(figsize=(5, 1.3))\n",
    "plt.plot(sf.data_fil)\n",
    "plt.show()\n",
    "plt.figure(figsize=(5, 1.3))\n",
    "plt.plot(sf.viterbi)\n",
    "plt.show()"
   ]
  },
  {
   "source": [
    "## 4. Customizing Plots\n",
    "\n",
    "The super class `sfHMMBase` has class attributes that is passed to `matplotlib` every time you plot. You can change them by updating the dictionaries.\n",
    "\n",
    "- `colors` ... Line colors of each data.\n",
    "- `styles` ... Styles of plot. See `rcParams` of `matplotlib`.\n"
   ],
   "cell_type": "markdown",
   "metadata": {}
  },
  {
   "cell_type": "code",
   "execution_count": null,
   "metadata": {},
   "outputs": [],
   "source": [
    "print(sfHMM1.colors)\n",
    "print(sfHMM1.styles)"
   ]
  },
  {
   "source": [
    "## 5. Additional Attributes and Methods in sfHMMn\n",
    "\n",
    "Basically `sfHMMn` can be used similarly as `sfHMM1`, while it has other methods for convenience.\n",
    "\n",
    "- `append` ... Append one dataset.\n",
    "- `appendn` ... Append list of datasets.\n",
    "- `from_pandas` ... Append datasets from `pandas.DataFrame`.\n",
    "- `self[i]` ... The `sfHMM1` object of $i$-th trace. The real list of objects is `_sf_list`. Iteration is defined on this list.\n",
    "- `run_all_separately` ... Run `run_all` for each `sfHMM1` separately.\n"
   ],
   "cell_type": "markdown",
   "metadata": {}
  },
  {
   "cell_type": "code",
   "execution_count": null,
   "metadata": {},
   "outputs": [],
   "source": [
    "# plot the first trace and its analysis results.\n",
    "msf[0].plot()\n",
    "\n",
    "# print each name\n",
    "for sf in msf:\n",
    "    print(sf.name)"
   ]
  },
  {
   "source": [
    "## 6. Application to Motor Stepping\n",
    "\n",
    "sfHMM can be modified for application to motor stepping trajectories. `sfHMM1Motor` (for single trajectory) and `sfHMMnMotor` (for multiple trajectories) in `sfHMM.motor` module have similar API as `sfHMM1` and `sfHMMn` but there are slight differences due to specialization to motor stepping trajectories such as sparse transition and large number of states.\n",
    "\n",
    "#### Differences in Parameters\n",
    "\n",
    "- `krange` ... Because it is hard to define the number of states, this parameter is not needed to be predefined. This parameter can be estimated in `gmmfit()` based on the step finding results.\n",
    "- `max_stride` ... The maximum size of state transition. Transition further than this will be ignored because transition probability for it will be near zero. For most motors this parameter should be set to 1 or 2.\n",
    "\n",
    "#### Differences in Attributes and Methods\n",
    "\n",
    "- `covariance_type` ... This is an attribute defined in `hmmlearn`. Because all the state should have the same distribution, this is set to `'tied'` here.\n",
    "- `transmat_kernel` ... Independent paramter set in the transition probability matrix. The length of this array is equal to `max_stride*2+1`. This is passed to `transmat_` getter method every time to construct transition probability matrix.\n",
    "- `gmmfit()` ... `method=\"Dirichlet\"` is default because it is precise enough and it is much faster for big data. Also, if you want to use the predifined `krange`, you need to explicitly add keyward argument `estimation=\"none\"`.\n",
    "- `tdp()` ... In the case of motor stepping, transition desity plot is not a straightforward way to visualize transition. Histogram of transition frequency is plotted here.\n",
    "\n",
    "#### Difference in HMM Algorithms\n",
    "\n",
    "Although you don't need to care much about them, forward/backward algorithm and Viterbi algorithm is modified from the original ones because there are some restrictions in transition probability matrix. In `hmmlearn` those algorithms are coded in cython file \"_hmmc.pyx\", while in `sfHMM.motor` modified algorithms in \"_hmmc_motor.pyx\" are used instead.\n"
   ],
   "cell_type": "markdown",
   "metadata": {}
  },
  {
   "cell_type": "code",
   "execution_count": null,
   "metadata": {},
   "outputs": [],
   "source": [
    "from sfHMM import motor_sampling\n",
    "from sfHMM.motor import sfHMM1Motor\n",
    "data = motor_sampling(n_data=1500)\n",
    "sf = sfHMM1Motor(data, max_stride=2)\n",
    "sf.run_all()"
   ]
  },
  {
   "cell_type": "code",
   "execution_count": null,
   "metadata": {},
   "outputs": [],
   "source": [
    "print(sf.transmat_kernel)\n",
    "sf.tdp()"
   ]
  },
  {
   "source": [
    "## 7. How to Use Step Finding Classes\n",
    "In `sfHMM.step` module, \n",
    "\n",
    "\n",
    "    - `fit` ... Fitting result.\n",
    "    - `n_step` ... The number of steps (region between two signal change points).\n",
    "    - `step_list` ... List of signal change points.\n",
    "    - `mu_list` ... list of mean values of each step.\n",
    "    - `len_list` ... list of step lengths (`step_list[i+1] - step_list[i]`).\n",
    "    - `step_size_list` ... list of signal change (`mu_list[i+1] - mu_list[i]`). "
   ],
   "cell_type": "markdown",
   "metadata": {}
  },
  {
   "cell_type": "code",
   "execution_count": null,
   "metadata": {},
   "outputs": [],
   "source": [
    "from sfHMM.step import GaussStep\n",
    "g = GaussStep(data)\n",
    "g.multi_step_finding()\n",
    "g.plot()"
   ]
  },
  {
   "source": [
    "## 8. How to Use GMM Clustering Classes"
   ],
   "cell_type": "markdown",
   "metadata": {}
  },
  {
   "cell_type": "code",
   "execution_count": null,
   "metadata": {},
   "outputs": [],
   "source": [
    "from sfHMM.gmm import GMMs\n",
    "data = hmm_sampling(4,1000, 0.5, 0.3)\n",
    "gmms = GMMs(data, krange=(2,6))\n",
    "gmms.fit()\n",
    "gmms.show_aic_bic()\n",
    "gmms.plot_all()"
   ]
  },
  {
   "source": [
    "## 9.Input and Output\n",
    "\n",
    "pickle... pandas..."
   ],
   "cell_type": "markdown",
   "metadata": {}
  },
  {
   "cell_type": "code",
   "execution_count": null,
   "metadata": {},
   "outputs": [],
   "source": []
  },
  {
   "cell_type": "code",
   "execution_count": null,
   "metadata": {},
   "outputs": [],
   "source": []
  }
 ]
}