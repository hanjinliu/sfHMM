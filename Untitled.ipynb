{
 "cells": [
  {
   "cell_type": "code",
   "execution_count": 1,
   "id": "filled-eugene",
   "metadata": {},
   "outputs": [
    {
     "data": {
      "text/plain": [
       "'2.1.0'"
      ]
     },
     "execution_count": 1,
     "metadata": {},
     "output_type": "execute_result"
    }
   ],
   "source": [
    "import impy as ip\n",
    "ip.__version__"
   ]
  },
  {
   "cell_type": "code",
   "execution_count": 2,
   "id": "constitutional-praise",
   "metadata": {},
   "outputs": [
    {
     "data": {
      "text/plain": [
       "\n",
       "    shape     : 16(t), 2(c), 1024(y), 1024(x)\n",
       "    dtype     : uint16\n",
       "  directory   : D:\\Reserch\\Data\\210317\n",
       "original image: Qdot_4x4-positions\n",
       "   history    : "
      ]
     },
     "execution_count": 2,
     "metadata": {},
     "output_type": "execute_result"
    }
   ],
   "source": [
    "img = ip.imread(r\"D:\\Reserch\\Data\\210317\\Qdot_4x4-positions.tif\")\n",
    "img = img[\"t=1\"].affine_correction()"
   ]
  },
  {
   "cell_type": "code",
   "execution_count": null,
   "id": "sustained-volunteer",
   "metadata": {},
   "outputs": [],
   "source": []
  }
 ],
 "metadata": {
  "kernelspec": {
   "display_name": "Python 3",
   "language": "python",
   "name": "python3"
  },
  "language_info": {
   "codemirror_mode": {
    "name": "ipython",
    "version": 3
   },
   "file_extension": ".py",
   "mimetype": "text/x-python",
   "name": "python",
   "nbconvert_exporter": "python",
   "pygments_lexer": "ipython3",
   "version": "3.7.7"
  }
 },
 "nbformat": 4,
 "nbformat_minor": 5
}
